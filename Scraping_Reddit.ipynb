{
 "cells": [
  {
   "cell_type": "code",
   "execution_count": 28,
   "id": "66c1996e",
   "metadata": {},
   "outputs": [],
   "source": [
    "import pandas as pd\n",
    "from tqdm import tqdm"
   ]
  },
  {
   "cell_type": "code",
   "execution_count": 29,
   "id": "3cc7bfd7",
   "metadata": {},
   "outputs": [],
   "source": [
    "import praw\n",
    "\n",
    "# Replace the following values with your own Reddit app credentials\n",
    "client_id = 'lSwalN8be0bXXe9cUKnYPQ'\n",
    "client_secret = 'Gf99ua1rNWQP86pDqE9wb1DN9rTseg'\n",
    "user_agent = 'RedditCovidData'\n",
    "\n",
    "# Authenticate with Reddit API using PRAW\n",
    "reddit = praw.Reddit(client_id=client_id, client_secret=client_secret, user_agent=user_agent)"
   ]
  },
  {
   "cell_type": "code",
   "execution_count": 30,
   "id": "05acbdf2",
   "metadata": {},
   "outputs": [
    {
     "name": "stdout",
     "output_type": "stream",
     "text": [
      "Display Name:  COVID19positive\n"
     ]
    }
   ],
   "source": [
    "subreddit = reddit.subreddit('COVID19positive')\n",
    "\n",
    "print('Display Name: ', subreddit.display_name)"
   ]
  },
  {
   "cell_type": "code",
   "execution_count": 31,
   "id": "50d6bf78",
   "metadata": {},
   "outputs": [
    {
     "name": "stdout",
     "output_type": "stream",
     "text": [
      "Title:  /r/COVID-19Positive\n",
      "Description:  A place for people who came back positive for COVID19 can share your stories, experiences, answer questions and vent!\n",
      "\n",
      "####RULES\n",
      "\n",
      "###**No \"I Think I Have It Posts\"!**\n",
      "* If you have NOT tested positive but think you have COVID-19, go to the \"I Think I Have It\" thread stickied at the top of the page. THIS INCLUDES QUESTION FLAIRED POSTS.\n",
      "\n",
      "* If you have any general questions and things to share and you have NOT tested positive, go to the \"Daily Discussion\" thread!\n",
      "\n",
      "###**No Medical advice!**\n",
      "\n",
      "* While we are open to medical discussion please remember we aren’t medical professionals. If you are truthfully concerned please contact your local medical facility. Do not request or offer medical advice on this subreddit.\n",
      "\n",
      "###**Be kind and empathetic!**\n",
      "\n",
      "* This is a stressful time for many and sarcasm, rudeness, name calling and anything else will not be tolerated.\n",
      "\n",
      "###**No shit post/troll posts!**\n",
      "\n",
      "\n",
      "* No faking it, no mocking, no pot stirring.\n",
      "\n",
      "###**No memes!**\n",
      "\n",
      "* There are plenty of other subreddits for them but this place isn’t one of them\n",
      "\n",
      "###**No personally contacting other users!**\n",
      "\n",
      "* If any person is reported for trying to personally contact, or PM another user, that person will be permabanned. Please help us keep this community safe and protected from such people.\n",
      "\n",
      "###**No fear mongering/news articles**\n",
      "\n",
      "* We want this to be a safe place to post. We don’t want this to be another place to cause anxiety. Please keep your experiences first hand. No posting news articles as there are subreddits that have been designed for that and we can’t verify if they are factual or not.\n",
      "\n",
      "###**No Self-Promotion!**\n",
      "\n",
      "* Posts must be formatted correctly. No posts where the title is the meme caption or we will delete it. The caption must be in the meme image, not in the submission title.\n",
      "\n",
      "---\n",
      "\n",
      "Related subreddits:\n",
      "\n",
      "* /r/Coronavirus \n",
      "\n",
      "* /r/COVID19 \n",
      "\n",
      "* /r/COVID19_support \n",
      "\n",
      "* /r/Masks4All\n"
     ]
    }
   ],
   "source": [
    "print(\"Title: \", subreddit.title)\n",
    "print(\"Description: \", subreddit.description)"
   ]
  },
  {
   "cell_type": "code",
   "execution_count": 32,
   "id": "671c4b55",
   "metadata": {},
   "outputs": [],
   "source": [
    "import datetime\n",
    "\n",
    "post_ids = []\n",
    "\n",
    "# for post in subreddit.search('flair_name:\"Tested Positive - Me\" vaccinated', limit=None):\n",
    "#     post_ids.append(post.id)\n",
    "\n",
    "# Set the start and end dates for the filter\n",
    "start_date = datetime.datetime(2020, 1, 1)\n",
    "end_date = datetime.datetime(2023, 4, 27)\n",
    "\n",
    "# Loop over the search results and add post IDs that meet the filter criteria\n",
    "for post in subreddit.search('flair_name: \"Tested Positive - Me\" vaccinated', limit=None):\n",
    "    if start_date <= datetime.datetime.fromtimestamp(post.created_utc) <= end_date:\n",
    "        post_ids.append(post.id)"
   ]
  },
  {
   "cell_type": "code",
   "execution_count": 33,
   "id": "55754355",
   "metadata": {},
   "outputs": [
    {
     "data": {
      "text/plain": [
       "242"
      ]
     },
     "execution_count": 33,
     "metadata": {},
     "output_type": "execute_result"
    }
   ],
   "source": [
    "len(post_ids)"
   ]
  },
  {
   "cell_type": "code",
   "execution_count": 34,
   "id": "94de9d81",
   "metadata": {},
   "outputs": [],
   "source": [
    "# Loop over the search results and add post IDs that meet the filter criteria\n",
    "for post in subreddit.search('flair_name: \"Tested Positive - Me\" despite vaccination', limit=None):\n",
    "    if start_date <= datetime.datetime.fromtimestamp(post.created_utc) <= end_date:\n",
    "        post_ids.append(post.id)"
   ]
  },
  {
   "cell_type": "code",
   "execution_count": 35,
   "id": "4ce7db00",
   "metadata": {},
   "outputs": [],
   "source": [
    "# Loop over the search results and add post IDs that meet the filter criteria\n",
    "for post in subreddit.search('flair_name: \"Tested Positive - Me\" after vaccination', limit=None):\n",
    "    if start_date <= datetime.datetime.fromtimestamp(post.created_utc) <= end_date:\n",
    "        post_ids.append(post.id)"
   ]
  },
  {
   "cell_type": "code",
   "execution_count": 36,
   "id": "d18792f2",
   "metadata": {},
   "outputs": [],
   "source": [
    "# Loop over the search results and add post IDs that meet the filter criteria\n",
    "for post in subreddit.search('flair_name: \"Tested Positive - Me\" post vaccination', limit=None):\n",
    "    if start_date <= datetime.datetime.fromtimestamp(post.created_utc) <= end_date:\n",
    "        post_ids.append(post.id)"
   ]
  },
  {
   "cell_type": "code",
   "execution_count": 38,
   "id": "78e4d45a",
   "metadata": {},
   "outputs": [],
   "source": [
    "# Loop over the search results and add post IDs that meet the filter criteria\n",
    "for post in subreddit.search('flair_name:\"Tested Positive - Family\" vaccinated', limit=None):\n",
    "    if start_date <= datetime.datetime.fromtimestamp(post.created_utc) <= end_date:\n",
    "        post_ids.append(post.id)"
   ]
  },
  {
   "cell_type": "code",
   "execution_count": 39,
   "id": "6a464b1f",
   "metadata": {},
   "outputs": [],
   "source": [
    "# Loop over the search results and add post IDs that meet the filter criteria\n",
    "for post in subreddit.search('flair_name:\"Tested Positive - Family\" despite vaccination', limit=None):\n",
    "    if start_date <= datetime.datetime.fromtimestamp(post.created_utc) <= end_date:\n",
    "        post_ids.append(post.id)"
   ]
  },
  {
   "cell_type": "code",
   "execution_count": 40,
   "id": "a134fd32",
   "metadata": {},
   "outputs": [],
   "source": [
    "# Loop over the search results and add post IDs that meet the filter criteria\n",
    "for post in subreddit.search('flair_name: \"Tested Positive - Family\" after vaccination', limit=None):\n",
    "    if start_date <= datetime.datetime.fromtimestamp(post.created_utc) <= end_date:\n",
    "        post_ids.append(post.id)"
   ]
  },
  {
   "cell_type": "code",
   "execution_count": 41,
   "id": "82b6b4a2",
   "metadata": {},
   "outputs": [],
   "source": [
    "# Loop over the search results and add post IDs that meet the filter criteria\n",
    "for post in subreddit.search('flair_name: \"Tested Positive - Family\" post vaccination', limit=None):\n",
    "    if start_date <= datetime.datetime.fromtimestamp(post.created_utc) <= end_date:\n",
    "        post_ids.append(post.id)"
   ]
  },
  {
   "cell_type": "code",
   "execution_count": 42,
   "id": "582469d7",
   "metadata": {},
   "outputs": [
    {
     "data": {
      "text/plain": [
       "1414"
      ]
     },
     "execution_count": 42,
     "metadata": {},
     "output_type": "execute_result"
    }
   ],
   "source": [
    "len(post_ids)"
   ]
  },
  {
   "cell_type": "code",
   "execution_count": 43,
   "id": "436b1edd",
   "metadata": {},
   "outputs": [],
   "source": [
    "post_ids = list(set(post_ids))"
   ]
  },
  {
   "cell_type": "code",
   "execution_count": 44,
   "id": "14df5bb1",
   "metadata": {},
   "outputs": [
    {
     "data": {
      "text/plain": [
       "1146"
      ]
     },
     "execution_count": 44,
     "metadata": {},
     "output_type": "execute_result"
    }
   ],
   "source": [
    "len(post_ids)"
   ]
  },
  {
   "cell_type": "code",
   "execution_count": 45,
   "id": "8382a11f",
   "metadata": {},
   "outputs": [
    {
     "name": "stderr",
     "output_type": "stream",
     "text": [
      "100%|███████████████████████████████████████| 1146/1146 [35:41<00:00,  1.87s/it]\n"
     ]
    }
   ],
   "source": [
    "posts_dict = {\"Title\": [], \"Author\": [], \"Post ID\": [], \"URL\": [],\"Post Date\": [], \"Upvotes\" : [], \"Post text\": []}\n",
    "\n",
    "# start_date = '01-01-20 00:00:00'\n",
    "# start_date = datetime.datetime.strptime(start_date, '%d-%m-%y %H-%M-%S').timestamp()\n",
    "\n",
    "for post_id in tqdm(post_ids):\n",
    "    post = reddit.submission(id=post_id)\n",
    "    posts_dict[\"Title\"].append(post.title if post.title else '')\n",
    "    posts_dict[\"Author\"].append(post.author.name if post.author else '[deleted]')\n",
    "    posts_dict[\"Post ID\"].append(post_id)\n",
    "    posts_dict[\"URL\"].append(post.url)\n",
    "    posts_dict[\"Upvotes\"].append(post.score)\n",
    "    posts_dict[\"Post text\"].append(post.selftext if post.selftext else '')\n",
    "    posts_dict[\"Post Date\"].append(post.created_utc)"
   ]
  },
  {
   "cell_type": "code",
   "execution_count": 46,
   "id": "8a69248e",
   "metadata": {},
   "outputs": [],
   "source": [
    "df = pd.DataFrame(posts_dict)"
   ]
  },
  {
   "cell_type": "code",
   "execution_count": 47,
   "id": "73d9be60",
   "metadata": {},
   "outputs": [
    {
     "data": {
      "text/html": [
       "<div>\n",
       "<style scoped>\n",
       "    .dataframe tbody tr th:only-of-type {\n",
       "        vertical-align: middle;\n",
       "    }\n",
       "\n",
       "    .dataframe tbody tr th {\n",
       "        vertical-align: top;\n",
       "    }\n",
       "\n",
       "    .dataframe thead th {\n",
       "        text-align: right;\n",
       "    }\n",
       "</style>\n",
       "<table border=\"1\" class=\"dataframe\">\n",
       "  <thead>\n",
       "    <tr style=\"text-align: right;\">\n",
       "      <th></th>\n",
       "      <th>Title</th>\n",
       "      <th>Author</th>\n",
       "      <th>Post ID</th>\n",
       "      <th>URL</th>\n",
       "      <th>Post Date</th>\n",
       "      <th>Upvotes</th>\n",
       "      <th>Post text</th>\n",
       "    </tr>\n",
       "  </thead>\n",
       "  <tbody>\n",
       "    <tr>\n",
       "      <th>0</th>\n",
       "      <td>Anxious of what’s to come: Teen covid experience</td>\n",
       "      <td>Onescaredsadcookie</td>\n",
       "      <td>mhoaap</td>\n",
       "      <td>https://www.reddit.com/r/COVID19positive/comme...</td>\n",
       "      <td>1.617254e+09</td>\n",
       "      <td>40</td>\n",
       "      <td>I just tested positive about 3 days ago, and i...</td>\n",
       "    </tr>\n",
       "    <tr>\n",
       "      <th>1</th>\n",
       "      <td>3 weeks?</td>\n",
       "      <td>stormchaserguy74</td>\n",
       "      <td>ylnsj3</td>\n",
       "      <td>https://www.reddit.com/r/COVID19positive/comme...</td>\n",
       "      <td>1.667533e+09</td>\n",
       "      <td>2</td>\n",
       "      <td>So my wife and kid had covid 3 weeks ago.  Tim...</td>\n",
       "    </tr>\n",
       "    <tr>\n",
       "      <th>2</th>\n",
       "      <td>Update/Rant</td>\n",
       "      <td>brittpotter</td>\n",
       "      <td>r5cf2l</td>\n",
       "      <td>https://www.reddit.com/r/COVID19positive/comme...</td>\n",
       "      <td>1.638239e+09</td>\n",
       "      <td>4</td>\n",
       "      <td>I had posted the other day that we were visiti...</td>\n",
       "    </tr>\n",
       "    <tr>\n",
       "      <th>3</th>\n",
       "      <td>The worst flu I’ve ever had</td>\n",
       "      <td>ashree24</td>\n",
       "      <td>yf1oju</td>\n",
       "      <td>https://www.reddit.com/r/COVID19positive/comme...</td>\n",
       "      <td>1.666901e+09</td>\n",
       "      <td>13</td>\n",
       "      <td>After avoiding covid for 2 years and being sup...</td>\n",
       "    </tr>\n",
       "    <tr>\n",
       "      <th>4</th>\n",
       "      <td>Mother is COVID Positive and going in public. ...</td>\n",
       "      <td>mountennui</td>\n",
       "      <td>vpyg6b</td>\n",
       "      <td>https://www.reddit.com/r/COVID19positive/comme...</td>\n",
       "      <td>1.656788e+09</td>\n",
       "      <td>5</td>\n",
       "      <td>So, my mother is COVID positive and going out ...</td>\n",
       "    </tr>\n",
       "    <tr>\n",
       "      <th>5</th>\n",
       "      <td>Apparently had Covid when I had 1st Vaccine</td>\n",
       "      <td>rystyle2517</td>\n",
       "      <td>mrxbx1</td>\n",
       "      <td>https://www.reddit.com/r/COVID19positive/comme...</td>\n",
       "      <td>1.618554e+09</td>\n",
       "      <td>4</td>\n",
       "      <td>48F- Why had I never heard about the crazy fir...</td>\n",
       "    </tr>\n",
       "    <tr>\n",
       "      <th>6</th>\n",
       "      <td>Scared</td>\n",
       "      <td>Fair-Championship394</td>\n",
       "      <td>10mcrhv</td>\n",
       "      <td>https://www.reddit.com/r/COVID19positive/comme...</td>\n",
       "      <td>1.674796e+09</td>\n",
       "      <td>0</td>\n",
       "      <td>I keep hearing so many stories of people dying...</td>\n",
       "    </tr>\n",
       "    <tr>\n",
       "      <th>7</th>\n",
       "      <td>Vaccines and science</td>\n",
       "      <td>erica7878</td>\n",
       "      <td>mop2aj</td>\n",
       "      <td>https://www.reddit.com/r/COVID19positive/comme...</td>\n",
       "      <td>1.618139e+09</td>\n",
       "      <td>16</td>\n",
       "      <td>I know I’m a random stranger to most of you, b...</td>\n",
       "    </tr>\n",
       "    <tr>\n",
       "      <th>8</th>\n",
       "      <td>Stepfather Getting Put on Ventilator</td>\n",
       "      <td>beatenbyweather</td>\n",
       "      <td>pazuhg</td>\n",
       "      <td>https://www.reddit.com/r/COVID19positive/comme...</td>\n",
       "      <td>1.629851e+09</td>\n",
       "      <td>34</td>\n",
       "      <td>Looking for anecdotal support. \\n\\nHis oxygen ...</td>\n",
       "    </tr>\n",
       "    <tr>\n",
       "      <th>9</th>\n",
       "      <td>Feels like I caught covid again while having c...</td>\n",
       "      <td>Nascarventm</td>\n",
       "      <td>rv6i7u</td>\n",
       "      <td>https://www.reddit.com/r/COVID19positive/comme...</td>\n",
       "      <td>1.641230e+09</td>\n",
       "      <td>5</td>\n",
       "      <td>Paranoid that I re caught the same virus I’ve ...</td>\n",
       "    </tr>\n",
       "  </tbody>\n",
       "</table>\n",
       "</div>"
      ],
      "text/plain": [
       "                                               Title                Author  \\\n",
       "0   Anxious of what’s to come: Teen covid experience    Onescaredsadcookie   \n",
       "1                                           3 weeks?      stormchaserguy74   \n",
       "2                                        Update/Rant           brittpotter   \n",
       "3                        The worst flu I’ve ever had              ashree24   \n",
       "4  Mother is COVID Positive and going in public. ...            mountennui   \n",
       "5        Apparently had Covid when I had 1st Vaccine           rystyle2517   \n",
       "6                                             Scared  Fair-Championship394   \n",
       "7                               Vaccines and science             erica7878   \n",
       "8               Stepfather Getting Put on Ventilator       beatenbyweather   \n",
       "9  Feels like I caught covid again while having c...           Nascarventm   \n",
       "\n",
       "   Post ID                                                URL     Post Date  \\\n",
       "0   mhoaap  https://www.reddit.com/r/COVID19positive/comme...  1.617254e+09   \n",
       "1   ylnsj3  https://www.reddit.com/r/COVID19positive/comme...  1.667533e+09   \n",
       "2   r5cf2l  https://www.reddit.com/r/COVID19positive/comme...  1.638239e+09   \n",
       "3   yf1oju  https://www.reddit.com/r/COVID19positive/comme...  1.666901e+09   \n",
       "4   vpyg6b  https://www.reddit.com/r/COVID19positive/comme...  1.656788e+09   \n",
       "5   mrxbx1  https://www.reddit.com/r/COVID19positive/comme...  1.618554e+09   \n",
       "6  10mcrhv  https://www.reddit.com/r/COVID19positive/comme...  1.674796e+09   \n",
       "7   mop2aj  https://www.reddit.com/r/COVID19positive/comme...  1.618139e+09   \n",
       "8   pazuhg  https://www.reddit.com/r/COVID19positive/comme...  1.629851e+09   \n",
       "9   rv6i7u  https://www.reddit.com/r/COVID19positive/comme...  1.641230e+09   \n",
       "\n",
       "   Upvotes                                          Post text  \n",
       "0       40  I just tested positive about 3 days ago, and i...  \n",
       "1        2  So my wife and kid had covid 3 weeks ago.  Tim...  \n",
       "2        4  I had posted the other day that we were visiti...  \n",
       "3       13  After avoiding covid for 2 years and being sup...  \n",
       "4        5  So, my mother is COVID positive and going out ...  \n",
       "5        4  48F- Why had I never heard about the crazy fir...  \n",
       "6        0  I keep hearing so many stories of people dying...  \n",
       "7       16  I know I’m a random stranger to most of you, b...  \n",
       "8       34  Looking for anecdotal support. \\n\\nHis oxygen ...  \n",
       "9        5  Paranoid that I re caught the same virus I’ve ...  "
      ]
     },
     "execution_count": 47,
     "metadata": {},
     "output_type": "execute_result"
    }
   ],
   "source": [
    "df.head(10)"
   ]
  },
  {
   "cell_type": "code",
   "execution_count": null,
   "id": "0f51bd22",
   "metadata": {},
   "outputs": [],
   "source": [
    "# posts_dates = []"
   ]
  },
  {
   "cell_type": "code",
   "execution_count": 48,
   "id": "d01fe1d0",
   "metadata": {},
   "outputs": [],
   "source": [
    "# determining the name of the file\n",
    "file_name = 'covidPosts_vaccinated.xlsx'\n",
    "\n",
    "# saving the excel\n",
    "df.to_excel(file_name)"
   ]
  },
  {
   "cell_type": "code",
   "execution_count": 50,
   "id": "5fc29ef8",
   "metadata": {},
   "outputs": [],
   "source": [
    "post_ids_uv = []\n",
    "\n",
    "# for post in subreddit.search('flair_name:\"Tested Positive - Me\" vaccinated', limit=None):\n",
    "#     post_ids.append(post.id)\n",
    "\n",
    "# Set the start and end dates for the filter\n",
    "start_date = datetime.datetime(2020, 1, 1)\n",
    "end_date = datetime.datetime(2023, 4, 27)\n",
    "\n",
    "# Loop over the search results and add post IDs that meet the filter criteria\n",
    "for post in subreddit.search('flair_name:\"Tested Positive - Me\"  not vaccinated', limit=None):\n",
    "    if start_date <= datetime.datetime.fromtimestamp(post.created_utc) <= end_date:\n",
    "        post_ids_uv.append(post.id)"
   ]
  },
  {
   "cell_type": "code",
   "execution_count": 51,
   "id": "a19df2c6",
   "metadata": {},
   "outputs": [],
   "source": [
    "# Loop over the search results and add post IDs that meet the filter criteria\n",
    "for post in subreddit.search('flair_name:\"Tested Positive - Family\"  not vaccinated', limit=None):\n",
    "    if start_date <= datetime.datetime.fromtimestamp(post.created_utc) <= end_date:\n",
    "        post_ids_uv.append(post.id)"
   ]
  },
  {
   "cell_type": "code",
   "execution_count": 52,
   "id": "c1a4f78d",
   "metadata": {},
   "outputs": [],
   "source": [
    "# Loop over the search results and add post IDs that meet the filter criteria\n",
    "for post in subreddit.search('flair_name:\"Tested Positive - Me\"  unvaccinated', limit=None):\n",
    "    if start_date <= datetime.datetime.fromtimestamp(post.created_utc) <= end_date:\n",
    "        post_ids_uv.append(post.id)\n",
    "        \n",
    "# Loop over the search results and add post IDs that meet the filter criteria\n",
    "for post in subreddit.search('flair_name:\"Tested Positive - Family\"  unvaccinated', limit=None):\n",
    "    if start_date <= datetime.datetime.fromtimestamp(post.created_utc) <= end_date:\n",
    "        post_ids_uv.append(post.id)"
   ]
  },
  {
   "cell_type": "code",
   "execution_count": 53,
   "id": "13164bbb",
   "metadata": {},
   "outputs": [],
   "source": [
    "# Loop over the search results and add post IDs that meet the filter criteria\n",
    "for post in subreddit.search('flair_name:\"Tested Positive - Me\"  no vaccination', limit=None):\n",
    "    if start_date <= datetime.datetime.fromtimestamp(post.created_utc) <= end_date:\n",
    "        post_ids_uv.append(post.id)\n",
    "        \n",
    "# Loop over the search results and add post IDs that meet the filter criteria\n",
    "for post in subreddit.search('flair_name:\"Tested Positive - Family\"  no vaccination', limit=None):\n",
    "    if start_date <= datetime.datetime.fromtimestamp(post.created_utc) <= end_date:\n",
    "        post_ids_uv.append(post.id)"
   ]
  },
  {
   "cell_type": "code",
   "execution_count": 54,
   "id": "ac5a417b",
   "metadata": {},
   "outputs": [],
   "source": [
    "# Loop over the search results and add post IDs that meet the filter criteria\n",
    "for post in subreddit.search('flair_name:\"Tested Positive - Me\"  not get the vaccine', limit=None):\n",
    "    if start_date <= datetime.datetime.fromtimestamp(post.created_utc) <= end_date:\n",
    "        post_ids_uv.append(post.id)\n",
    "        \n",
    "# Loop over the search results and add post IDs that meet the filter criteria\n",
    "for post in subreddit.search('flair_name:\"Tested Positive - Family\" not get the vaccine', limit=None):\n",
    "    if start_date <= datetime.datetime.fromtimestamp(post.created_utc) <= end_date:\n",
    "        post_ids_uv.append(post.id)"
   ]
  },
  {
   "cell_type": "code",
   "execution_count": 55,
   "id": "3a68cb43",
   "metadata": {},
   "outputs": [],
   "source": [
    "# Loop over the search results and add post IDs that meet the filter criteria\n",
    "for post in subreddit.search('flair_name:\"Tested Positive - Me\"  not get vaccinated', limit=None):\n",
    "    if start_date <= datetime.datetime.fromtimestamp(post.created_utc) <= end_date:\n",
    "        post_ids_uv.append(post.id)\n",
    "        \n",
    "# Loop over the search results and add post IDs that meet the filter criteria\n",
    "for post in subreddit.search('flair_name:\"Tested Positive - Family\" not get vaccinated', limit=None):\n",
    "    if start_date <= datetime.datetime.fromtimestamp(post.created_utc) <= end_date:\n",
    "        post_ids_uv.append(post.id)"
   ]
  },
  {
   "cell_type": "code",
   "execution_count": 71,
   "id": "f5d226fb",
   "metadata": {},
   "outputs": [
    {
     "data": {
      "text/plain": [
       "1273"
      ]
     },
     "execution_count": 71,
     "metadata": {},
     "output_type": "execute_result"
    }
   ],
   "source": [
    "len(post_ids_uv)"
   ]
  },
  {
   "cell_type": "code",
   "execution_count": 72,
   "id": "8ed545af",
   "metadata": {},
   "outputs": [],
   "source": [
    "post_ids_uv = list(set(post_ids_uv))"
   ]
  },
  {
   "cell_type": "code",
   "execution_count": 73,
   "id": "ee536206",
   "metadata": {},
   "outputs": [],
   "source": [
    "post_ids_uv1 = [item for item in post_ids_uv if item not in post_ids]"
   ]
  },
  {
   "cell_type": "code",
   "execution_count": 74,
   "id": "3d7fa981",
   "metadata": {},
   "outputs": [
    {
     "data": {
      "text/plain": [
       "698"
      ]
     },
     "execution_count": 74,
     "metadata": {},
     "output_type": "execute_result"
    }
   ],
   "source": [
    "len(post_ids_uv1)"
   ]
  },
  {
   "cell_type": "code",
   "execution_count": 75,
   "id": "2adf8e6d",
   "metadata": {},
   "outputs": [
    {
     "name": "stderr",
     "output_type": "stream",
     "text": [
      "100%|█████████████████████████████████████████| 698/698 [19:04<00:00,  1.64s/it]\n"
     ]
    }
   ],
   "source": [
    "posts_dict_uv = {\"Title\": [], \"Author\": [], \"Post ID\": [], \"URL\": [],\"Post Date\": [], \"Upvotes\" : [], \"Post text\": []}\n",
    "\n",
    "# start_date = '01-01-20 00:00:00'\n",
    "# start_date = datetime.datetime.strptime(start_date, '%d-%m-%y %H-%M-%S').timestamp()\n",
    "\n",
    "for post_id in tqdm(post_ids_uv1):\n",
    "    post = reddit.submission(id=post_id)\n",
    "    posts_dict_uv[\"Title\"].append(post.title if post.title else '')\n",
    "    posts_dict_uv[\"Author\"].append(post.author.name if post.author else '[deleted]')\n",
    "    posts_dict_uv[\"Post ID\"].append(post_id)\n",
    "    posts_dict_uv[\"Upvotes\"].append(post.score)\n",
    "    posts_dict_uv[\"URL\"].append(post.url)\n",
    "    posts_dict_uv[\"Post text\"].append(post.selftext if post.selftext else '')\n",
    "    posts_dict_uv[\"Post Date\"].append(post.created_utc)"
   ]
  },
  {
   "cell_type": "code",
   "execution_count": 67,
   "id": "ba80282b",
   "metadata": {},
   "outputs": [
    {
     "name": "stdout",
     "output_type": "stream",
     "text": [
      "Title list size: 698\n",
      "Author list size: 698\n",
      "Post ID list size: 698\n",
      "Upvotes list size: 698\n",
      "URL list size: 698\n",
      "Post text list size: 698\n",
      "Post Date list size: 698\n"
     ]
    }
   ],
   "source": [
    "print(\"Title list size:\", len(posts_dict_uv[\"Title\"]))\n",
    "print(\"Author list size:\", len(posts_dict_uv[\"Author\"]))\n",
    "print(\"Post ID list size:\", len(posts_dict_uv[\"Post ID\"]))\n",
    "print(\"Upvotes list size:\", len(posts_dict_uv[\"Upvotes\"]))\n",
    "print(\"URL list size:\", len(posts_dict_uv[\"URL\"]))\n",
    "print(\"Post text list size:\", len(posts_dict_uv[\"Post text\"]))\n",
    "print(\"Post Date list size:\", len(posts_dict_uv[\"Post Date\"]))"
   ]
  },
  {
   "cell_type": "code",
   "execution_count": 66,
   "id": "0d241e51",
   "metadata": {},
   "outputs": [
    {
     "name": "stderr",
     "output_type": "stream",
     "text": [
      "100%|█████████████████████████████████████| 698/698 [00:00<00:00, 764592.37it/s]\n"
     ]
    }
   ],
   "source": [
    "for post_id in tqdm(post_ids_uv1):\n",
    "    posts_dict_uv[\"Upvotes\"].append(post.score)\n",
    "    posts_dict_uv[\"Post Date\"].append(post.created_utc)"
   ]
  },
  {
   "cell_type": "code",
   "execution_count": 68,
   "id": "f8819a0a",
   "metadata": {},
   "outputs": [],
   "source": [
    "df_uv = pd.DataFrame(posts_dict_uv)"
   ]
  },
  {
   "cell_type": "code",
   "execution_count": 70,
   "id": "c80b4cfb",
   "metadata": {},
   "outputs": [
    {
     "data": {
      "text/html": [
       "<div>\n",
       "<style scoped>\n",
       "    .dataframe tbody tr th:only-of-type {\n",
       "        vertical-align: middle;\n",
       "    }\n",
       "\n",
       "    .dataframe tbody tr th {\n",
       "        vertical-align: top;\n",
       "    }\n",
       "\n",
       "    .dataframe thead th {\n",
       "        text-align: right;\n",
       "    }\n",
       "</style>\n",
       "<table border=\"1\" class=\"dataframe\">\n",
       "  <thead>\n",
       "    <tr style=\"text-align: right;\">\n",
       "      <th></th>\n",
       "      <th>Title</th>\n",
       "      <th>Author</th>\n",
       "      <th>Post ID</th>\n",
       "      <th>URL</th>\n",
       "      <th>Post Date</th>\n",
       "      <th>Upvotes</th>\n",
       "      <th>Post text</th>\n",
       "    </tr>\n",
       "  </thead>\n",
       "  <tbody>\n",
       "    <tr>\n",
       "      <th>688</th>\n",
       "      <td>No classic symptoms - mimics allergies</td>\n",
       "      <td>WriterKen</td>\n",
       "      <td>12f0738</td>\n",
       "      <td>https://www.reddit.com/r/COVID19positive/comme...</td>\n",
       "      <td>1.670729e+09</td>\n",
       "      <td>6</td>\n",
       "      <td>I tested positive a few days ago (after my mom...</td>\n",
       "    </tr>\n",
       "    <tr>\n",
       "      <th>689</th>\n",
       "      <td>Whole family has it</td>\n",
       "      <td>Youdontknowme99999</td>\n",
       "      <td>vtpr83</td>\n",
       "      <td>https://www.reddit.com/r/COVID19positive/comme...</td>\n",
       "      <td>1.670729e+09</td>\n",
       "      <td>6</td>\n",
       "      <td>My 2 year old was miserable yesterday with a f...</td>\n",
       "    </tr>\n",
       "    <tr>\n",
       "      <th>690</th>\n",
       "      <td>This is my second time.</td>\n",
       "      <td>Sea_Spell_9925</td>\n",
       "      <td>10xf5ns</td>\n",
       "      <td>https://www.reddit.com/r/COVID19positive/comme...</td>\n",
       "      <td>1.670729e+09</td>\n",
       "      <td>6</td>\n",
       "      <td>Started having symptoms on Monday but I though...</td>\n",
       "    </tr>\n",
       "    <tr>\n",
       "      <th>691</th>\n",
       "      <td>My dad (45) was just put on a ventilator</td>\n",
       "      <td>justlane</td>\n",
       "      <td>pjrhm2</td>\n",
       "      <td>https://www.reddit.com/r/COVID19positive/comme...</td>\n",
       "      <td>1.670729e+09</td>\n",
       "      <td>6</td>\n",
       "      <td>I am absolutely terrified. I’m only 20 years o...</td>\n",
       "    </tr>\n",
       "    <tr>\n",
       "      <th>692</th>\n",
       "      <td>When will I feel better ?</td>\n",
       "      <td>Electronic_Cash_8905</td>\n",
       "      <td>10vpmm5</td>\n",
       "      <td>https://www.reddit.com/r/COVID19positive/comme...</td>\n",
       "      <td>1.670729e+09</td>\n",
       "      <td>6</td>\n",
       "      <td>I think I’m the last person in NYC who has nev...</td>\n",
       "    </tr>\n",
       "    <tr>\n",
       "      <th>693</th>\n",
       "      <td>Husband positive, not doing great. I'm negativ...</td>\n",
       "      <td>spockgiirl</td>\n",
       "      <td>lpvbd7</td>\n",
       "      <td>https://www.reddit.com/r/COVID19positive/comme...</td>\n",
       "      <td>1.670729e+09</td>\n",
       "      <td>6</td>\n",
       "      <td>We're officially at one week of symptoms. Stil...</td>\n",
       "    </tr>\n",
       "    <tr>\n",
       "      <th>694</th>\n",
       "      <td>If you or your partner/spouse tested positive,...</td>\n",
       "      <td>danger-daze</td>\n",
       "      <td>veek93</td>\n",
       "      <td>https://www.reddit.com/r/COVID19positive/comme...</td>\n",
       "      <td>1.670729e+09</td>\n",
       "      <td>6</td>\n",
       "      <td>My live-in partner tested positive this Tuesda...</td>\n",
       "    </tr>\n",
       "    <tr>\n",
       "      <th>695</th>\n",
       "      <td>22 M, tested positive 11/13</td>\n",
       "      <td>ashtonl99</td>\n",
       "      <td>rg5f8d</td>\n",
       "      <td>https://www.reddit.com/r/COVID19positive/comme...</td>\n",
       "      <td>1.670729e+09</td>\n",
       "      <td>6</td>\n",
       "      <td>This is my first time having covid, I am unvac...</td>\n",
       "    </tr>\n",
       "    <tr>\n",
       "      <th>696</th>\n",
       "      <td>How did I not get it?</td>\n",
       "      <td>Alternative_Fact_588</td>\n",
       "      <td>rwvgyq</td>\n",
       "      <td>https://www.reddit.com/r/COVID19positive/comme...</td>\n",
       "      <td>1.670729e+09</td>\n",
       "      <td>6</td>\n",
       "      <td>First my brother came in and ate lunch with us...</td>\n",
       "    </tr>\n",
       "    <tr>\n",
       "      <th>697</th>\n",
       "      <td>I’ve tested positive (and showing symptoms) fo...</td>\n",
       "      <td>gr26ko</td>\n",
       "      <td>zid9gy</td>\n",
       "      <td>https://www.reddit.com/r/COVID19positive/comme...</td>\n",
       "      <td>1.670729e+09</td>\n",
       "      <td>6</td>\n",
       "      <td>As the title says, I tested positive earlier t...</td>\n",
       "    </tr>\n",
       "  </tbody>\n",
       "</table>\n",
       "</div>"
      ],
      "text/plain": [
       "                                                 Title                Author  \\\n",
       "688             No classic symptoms - mimics allergies             WriterKen   \n",
       "689                                Whole family has it    Youdontknowme99999   \n",
       "690                            This is my second time.        Sea_Spell_9925   \n",
       "691           My dad (45) was just put on a ventilator              justlane   \n",
       "692                          When will I feel better ?  Electronic_Cash_8905   \n",
       "693  Husband positive, not doing great. I'm negativ...            spockgiirl   \n",
       "694  If you or your partner/spouse tested positive,...           danger-daze   \n",
       "695                        22 M, tested positive 11/13             ashtonl99   \n",
       "696                              How did I not get it?  Alternative_Fact_588   \n",
       "697  I’ve tested positive (and showing symptoms) fo...                gr26ko   \n",
       "\n",
       "     Post ID                                                URL     Post Date  \\\n",
       "688  12f0738  https://www.reddit.com/r/COVID19positive/comme...  1.670729e+09   \n",
       "689   vtpr83  https://www.reddit.com/r/COVID19positive/comme...  1.670729e+09   \n",
       "690  10xf5ns  https://www.reddit.com/r/COVID19positive/comme...  1.670729e+09   \n",
       "691   pjrhm2  https://www.reddit.com/r/COVID19positive/comme...  1.670729e+09   \n",
       "692  10vpmm5  https://www.reddit.com/r/COVID19positive/comme...  1.670729e+09   \n",
       "693   lpvbd7  https://www.reddit.com/r/COVID19positive/comme...  1.670729e+09   \n",
       "694   veek93  https://www.reddit.com/r/COVID19positive/comme...  1.670729e+09   \n",
       "695   rg5f8d  https://www.reddit.com/r/COVID19positive/comme...  1.670729e+09   \n",
       "696   rwvgyq  https://www.reddit.com/r/COVID19positive/comme...  1.670729e+09   \n",
       "697   zid9gy  https://www.reddit.com/r/COVID19positive/comme...  1.670729e+09   \n",
       "\n",
       "     Upvotes                                          Post text  \n",
       "688        6  I tested positive a few days ago (after my mom...  \n",
       "689        6  My 2 year old was miserable yesterday with a f...  \n",
       "690        6  Started having symptoms on Monday but I though...  \n",
       "691        6  I am absolutely terrified. I’m only 20 years o...  \n",
       "692        6  I think I’m the last person in NYC who has nev...  \n",
       "693        6  We're officially at one week of symptoms. Stil...  \n",
       "694        6  My live-in partner tested positive this Tuesda...  \n",
       "695        6  This is my first time having covid, I am unvac...  \n",
       "696        6  First my brother came in and ate lunch with us...  \n",
       "697        6  As the title says, I tested positive earlier t...  "
      ]
     },
     "execution_count": 70,
     "metadata": {},
     "output_type": "execute_result"
    }
   ],
   "source": [
    "df_uv.tail(10)"
   ]
  },
  {
   "cell_type": "code",
   "execution_count": 42,
   "id": "df60b3de",
   "metadata": {},
   "outputs": [],
   "source": [
    "# determining the name of the file\n",
    "file_name = 'redditPosts_uv.xlsx'\n",
    "\n",
    "# saving the excel\n",
    "df_uv.to_excel(file_name)"
   ]
  },
  {
   "cell_type": "code",
   "execution_count": 35,
   "id": "df84ef7d",
   "metadata": {},
   "outputs": [
    {
     "data": {
      "text/plain": [
       "614"
      ]
     },
     "execution_count": 35,
     "metadata": {},
     "output_type": "execute_result"
    }
   ],
   "source": [
    "len(post_ids)\n"
   ]
  },
  {
   "cell_type": "code",
   "execution_count": 34,
   "id": "7079e04e",
   "metadata": {},
   "outputs": [
    {
     "data": {
      "text/plain": [
       "747"
      ]
     },
     "execution_count": 34,
     "metadata": {},
     "output_type": "execute_result"
    }
   ],
   "source": [
    "len(post_ids_uv)"
   ]
  },
  {
   "cell_type": "code",
   "execution_count": 32,
   "id": "77eb83fe",
   "metadata": {},
   "outputs": [
    {
     "name": "stdout",
     "output_type": "stream",
     "text": [
      "188\n"
     ]
    }
   ],
   "source": [
    "set1 = set(post_ids)\n",
    "set2 = set(post_ids_uv)\n",
    "\n",
    "common_elements = set1.intersection(set2)\n",
    "\n",
    "print(len(common_elements)) # prints 2"
   ]
  },
  {
   "cell_type": "code",
   "execution_count": 36,
   "id": "eaa4bff5",
   "metadata": {},
   "outputs": [
    {
     "data": {
      "text/plain": [
       "595"
      ]
     },
     "execution_count": 36,
     "metadata": {},
     "output_type": "execute_result"
    }
   ],
   "source": [
    "len(set1)"
   ]
  },
  {
   "cell_type": "code",
   "execution_count": 37,
   "id": "e0fa8926",
   "metadata": {},
   "outputs": [
    {
     "data": {
      "text/plain": [
       "720"
      ]
     },
     "execution_count": 37,
     "metadata": {},
     "output_type": "execute_result"
    }
   ],
   "source": [
    "len(set2)"
   ]
  },
  {
   "cell_type": "code",
   "execution_count": 38,
   "id": "e7de0b8b",
   "metadata": {},
   "outputs": [
    {
     "name": "stdout",
     "output_type": "stream",
     "text": [
      "1127\n"
     ]
    }
   ],
   "source": [
    " x = 720+595-188\n",
    "    \n",
    "print(x)"
   ]
  }
 ],
 "metadata": {
  "kernelspec": {
   "display_name": "Python 3 (ipykernel)",
   "language": "python",
   "name": "python3"
  },
  "language_info": {
   "codemirror_mode": {
    "name": "ipython",
    "version": 3
   },
   "file_extension": ".py",
   "mimetype": "text/x-python",
   "name": "python",
   "nbconvert_exporter": "python",
   "pygments_lexer": "ipython3",
   "version": "3.9.6"
  }
 },
 "nbformat": 4,
 "nbformat_minor": 5
}
